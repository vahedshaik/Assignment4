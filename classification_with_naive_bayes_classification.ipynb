{
  "nbformat": 4,
  "nbformat_minor": 0,
  "metadata": {
    "colab": {
      "provenance": [],
      "include_colab_link": true
    },
    "kernelspec": {
      "name": "python3",
      "display_name": "Python 3"
    },
    "language_info": {
      "name": "python"
    }
  },
  "cells": [
    {
      "cell_type": "markdown",
      "metadata": {
        "id": "view-in-github",
        "colab_type": "text"
      },
      "source": [
        "<a href=\"https://colab.research.google.com/github/vahedshaik/Assignment4/blob/main/classification_with_naive_bayes_classification.ipynb\" target=\"_parent\"><img src=\"https://colab.research.google.com/assets/colab-badge.svg\" alt=\"Open In Colab\"/></a>"
      ]
    },
    {
      "cell_type": "code",
      "execution_count": null,
      "metadata": {
        "id": "9tokFQOdm4oG"
      },
      "outputs": [],
      "source": [
        "import numpy as np # linear algebra\n",
        "import pandas as pd # data processing, CSV file I/O (e.g. pd.read_csv)\n",
        "import matplotlib.pyplot as plt # data visualization purposes\n",
        "import seaborn as sns # statistical data visualization\n",
        "%matplotlib inline"
      ]
    },
    {
      "cell_type": "code",
      "source": [
        "import os\n",
        "for dirname, _, filenames in os.walk('/kaggle/input'):\n",
        "    for filename in filenames:\n",
        "        print(os.path.join(dirname, filename))\n"
      ],
      "metadata": {
        "id": "dgJBFsBv65P1"
      },
      "execution_count": null,
      "outputs": []
    },
    {
      "cell_type": "code",
      "source": [
        "df = pd.read_csv('/content/spam.csv', encoding = \"ISO-8859-1\")\n",
        "df = df.drop(df.columns[range(2,5)], axis =1)\n",
        "df.head()"
      ],
      "metadata": {
        "colab": {
          "base_uri": "https://localhost:8080/",
          "height": 206
        },
        "id": "d8K5z3XD7A-a",
        "outputId": "5bfcc985-b4ce-4baf-9820-598572cc845d"
      },
      "execution_count": null,
      "outputs": [
        {
          "output_type": "execute_result",
          "data": {
            "text/plain": [
              "     v1                                                 v2\n",
              "0   ham  Go until jurong point, crazy.. Available only ...\n",
              "1   ham                      Ok lar... Joking wif u oni...\n",
              "2  spam  Free entry in 2 a wkly comp to win FA Cup fina...\n",
              "3   ham  U dun say so early hor... U c already then say...\n",
              "4   ham  Nah I don't think he goes to usf, he lives aro..."
            ],
            "text/html": [
              "\n",
              "  <div id=\"df-ac5fe3a7-7e34-44ad-b588-e0166ae05300\">\n",
              "    <div class=\"colab-df-container\">\n",
              "      <div>\n",
              "<style scoped>\n",
              "    .dataframe tbody tr th:only-of-type {\n",
              "        vertical-align: middle;\n",
              "    }\n",
              "\n",
              "    .dataframe tbody tr th {\n",
              "        vertical-align: top;\n",
              "    }\n",
              "\n",
              "    .dataframe thead th {\n",
              "        text-align: right;\n",
              "    }\n",
              "</style>\n",
              "<table border=\"1\" class=\"dataframe\">\n",
              "  <thead>\n",
              "    <tr style=\"text-align: right;\">\n",
              "      <th></th>\n",
              "      <th>v1</th>\n",
              "      <th>v2</th>\n",
              "    </tr>\n",
              "  </thead>\n",
              "  <tbody>\n",
              "    <tr>\n",
              "      <th>0</th>\n",
              "      <td>ham</td>\n",
              "      <td>Go until jurong point, crazy.. Available only ...</td>\n",
              "    </tr>\n",
              "    <tr>\n",
              "      <th>1</th>\n",
              "      <td>ham</td>\n",
              "      <td>Ok lar... Joking wif u oni...</td>\n",
              "    </tr>\n",
              "    <tr>\n",
              "      <th>2</th>\n",
              "      <td>spam</td>\n",
              "      <td>Free entry in 2 a wkly comp to win FA Cup fina...</td>\n",
              "    </tr>\n",
              "    <tr>\n",
              "      <th>3</th>\n",
              "      <td>ham</td>\n",
              "      <td>U dun say so early hor... U c already then say...</td>\n",
              "    </tr>\n",
              "    <tr>\n",
              "      <th>4</th>\n",
              "      <td>ham</td>\n",
              "      <td>Nah I don't think he goes to usf, he lives aro...</td>\n",
              "    </tr>\n",
              "  </tbody>\n",
              "</table>\n",
              "</div>\n",
              "      <button class=\"colab-df-convert\" onclick=\"convertToInteractive('df-ac5fe3a7-7e34-44ad-b588-e0166ae05300')\"\n",
              "              title=\"Convert this dataframe to an interactive table.\"\n",
              "              style=\"display:none;\">\n",
              "        \n",
              "  <svg xmlns=\"http://www.w3.org/2000/svg\" height=\"24px\"viewBox=\"0 0 24 24\"\n",
              "       width=\"24px\">\n",
              "    <path d=\"M0 0h24v24H0V0z\" fill=\"none\"/>\n",
              "    <path d=\"M18.56 5.44l.94 2.06.94-2.06 2.06-.94-2.06-.94-.94-2.06-.94 2.06-2.06.94zm-11 1L8.5 8.5l.94-2.06 2.06-.94-2.06-.94L8.5 2.5l-.94 2.06-2.06.94zm10 10l.94 2.06.94-2.06 2.06-.94-2.06-.94-.94-2.06-.94 2.06-2.06.94z\"/><path d=\"M17.41 7.96l-1.37-1.37c-.4-.4-.92-.59-1.43-.59-.52 0-1.04.2-1.43.59L10.3 9.45l-7.72 7.72c-.78.78-.78 2.05 0 2.83L4 21.41c.39.39.9.59 1.41.59.51 0 1.02-.2 1.41-.59l7.78-7.78 2.81-2.81c.8-.78.8-2.07 0-2.86zM5.41 20L4 18.59l7.72-7.72 1.47 1.35L5.41 20z\"/>\n",
              "  </svg>\n",
              "      </button>\n",
              "      \n",
              "  <style>\n",
              "    .colab-df-container {\n",
              "      display:flex;\n",
              "      flex-wrap:wrap;\n",
              "      gap: 12px;\n",
              "    }\n",
              "\n",
              "    .colab-df-convert {\n",
              "      background-color: #E8F0FE;\n",
              "      border: none;\n",
              "      border-radius: 50%;\n",
              "      cursor: pointer;\n",
              "      display: none;\n",
              "      fill: #1967D2;\n",
              "      height: 32px;\n",
              "      padding: 0 0 0 0;\n",
              "      width: 32px;\n",
              "    }\n",
              "\n",
              "    .colab-df-convert:hover {\n",
              "      background-color: #E2EBFA;\n",
              "      box-shadow: 0px 1px 2px rgba(60, 64, 67, 0.3), 0px 1px 3px 1px rgba(60, 64, 67, 0.15);\n",
              "      fill: #174EA6;\n",
              "    }\n",
              "\n",
              "    [theme=dark] .colab-df-convert {\n",
              "      background-color: #3B4455;\n",
              "      fill: #D2E3FC;\n",
              "    }\n",
              "\n",
              "    [theme=dark] .colab-df-convert:hover {\n",
              "      background-color: #434B5C;\n",
              "      box-shadow: 0px 1px 3px 1px rgba(0, 0, 0, 0.15);\n",
              "      filter: drop-shadow(0px 1px 2px rgba(0, 0, 0, 0.3));\n",
              "      fill: #FFFFFF;\n",
              "    }\n",
              "  </style>\n",
              "\n",
              "      <script>\n",
              "        const buttonEl =\n",
              "          document.querySelector('#df-ac5fe3a7-7e34-44ad-b588-e0166ae05300 button.colab-df-convert');\n",
              "        buttonEl.style.display =\n",
              "          google.colab.kernel.accessAllowed ? 'block' : 'none';\n",
              "\n",
              "        async function convertToInteractive(key) {\n",
              "          const element = document.querySelector('#df-ac5fe3a7-7e34-44ad-b588-e0166ae05300');\n",
              "          const dataTable =\n",
              "            await google.colab.kernel.invokeFunction('convertToInteractive',\n",
              "                                                     [key], {});\n",
              "          if (!dataTable) return;\n",
              "\n",
              "          const docLinkHtml = 'Like what you see? Visit the ' +\n",
              "            '<a target=\"_blank\" href=https://colab.research.google.com/notebooks/data_table.ipynb>data table notebook</a>'\n",
              "            + ' to learn more about interactive tables.';\n",
              "          element.innerHTML = '';\n",
              "          dataTable['output_type'] = 'display_data';\n",
              "          await google.colab.output.renderOutput(dataTable, element);\n",
              "          const docLink = document.createElement('div');\n",
              "          docLink.innerHTML = docLinkHtml;\n",
              "          element.appendChild(docLink);\n",
              "        }\n",
              "      </script>\n",
              "    </div>\n",
              "  </div>\n",
              "  "
            ]
          },
          "metadata": {},
          "execution_count": 6
        }
      ]
    },
    {
      "cell_type": "markdown",
      "source": [
        "**Data Exporation and Analysis**\n",
        "\n",
        "First and foremost, let's check for any missing values in the dataset."
      ],
      "metadata": {
        "id": "QgJgLNt38s6j"
      }
    },
    {
      "cell_type": "code",
      "source": [
        "df_value_counts = df['v1'].value_counts()\n",
        "df_value_counts\n",
        "df_value_counts.isnull().sum()"
      ],
      "metadata": {
        "colab": {
          "base_uri": "https://localhost:8080/"
        },
        "id": "EUCWteTh8wld",
        "outputId": "9fbe6308-4fe8-4b1e-e793-728bcbf77130"
      },
      "execution_count": null,
      "outputs": [
        {
          "output_type": "execute_result",
          "data": {
            "text/plain": [
              "0"
            ]
          },
          "metadata": {},
          "execution_count": 7
        }
      ]
    },
    {
      "cell_type": "markdown",
      "source": [
        "**Plotting the data**\n",
        "\n",
        "Firstly, let's get a sense of the amount of values within each category."
      ],
      "metadata": {
        "id": "ajaJ0KbH9KE2"
      }
    },
    {
      "cell_type": "code",
      "source": [
        "df_value_counts.plot.bar(color=['blue', 'green'])"
      ],
      "metadata": {
        "colab": {
          "base_uri": "https://localhost:8080/",
          "height": 301
        },
        "id": "-O7HOp0y9QH8",
        "outputId": "2899a626-75b9-4b23-c5f4-8a8232500a2b"
      },
      "execution_count": null,
      "outputs": [
        {
          "output_type": "execute_result",
          "data": {
            "text/plain": [
              "<matplotlib.axes._subplots.AxesSubplot at 0x7f6183340910>"
            ]
          },
          "metadata": {},
          "execution_count": 8
        },
        {
          "output_type": "display_data",
          "data": {
            "text/plain": [
              "<Figure size 432x288 with 1 Axes>"
            ],
            "image/png": "[encoded data removed]"
          },
          "metadata": {
            "needs_background": "light"
          }
        }
      ]
    },
    {
      "cell_type": "code",
      "source": [
        "from collections import Counter\n",
        "ham_ct  = Counter(\" \".join(df[df['v1']=='ham'][\"v2\"]).split()).most_common(30)\n",
        "spam_ct = Counter(\" \".join(df[df['v1']=='spam'][\"v2\"]).split()).most_common(30)"
      ],
      "metadata": {
        "id": "2Xu_0WlH9Xfc"
      },
      "execution_count": null,
      "outputs": []
    },
    {
      "cell_type": "code",
      "source": [
        "df_ham = pd.DataFrame.from_dict(ham_ct)\n",
        "df_ham = df_ham.rename(columns={0: \"word\", 1 : \"count\"})\n",
        "df_spam = pd.DataFrame.from_dict(spam_ct)\n",
        "df_spam = df_spam.rename(columns={0: \"word\", 1 : \"count\"})\n",
        "\n",
        "fig, axes = plt.subplots(1, 2, figsize=(12, 4))\n",
        "df_ham.plot.bar(x='word', y='count', legend=False, ax=axes[0])\n",
        "df_spam.plot.bar(x='word', y='count', color='black', legend=False, ax=axes[1])\n",
        "\n",
        "axes[0].set_title('Non-Spam')\n",
        "axes[1].set_title('Spam')\n",
        "\n",
        "plt.show()"
      ],
      "metadata": {
        "colab": {
          "base_uri": "https://localhost:8080/",
          "height": 333
        },
        "id": "gz_YK8Oe9bOF",
        "outputId": "75955c29-9550-4e92-8f3c-a861ee5c48f9"
      },
      "execution_count": null,
      "outputs": [
        {
          "output_type": "display_data",
          "data": {
            "text/plain": [
              "<Figure size 864x288 with 2 Axes>"
            ],
            "image/png": "[encoded data removed]"
          },
          "metadata": {
            "needs_background": "light"
          }
        }
      ]
    },
    {
      "cell_type": "markdown",
      "source": [
        "**Feature Engineering**"
      ],
      "metadata": {
        "id": "YOCrj69k9mkF"
      }
    },
    {
      "cell_type": "markdown",
      "source": [
        "This part, called feature engineering, is where we need to transform the raw dataset's data into usable features.\n",
        "\n",
        "When dealing with text data from any source (email, SMS, etc) we need to vectrize this input into a representation called Bag of words.\n",
        "\n",
        "This turns the input documents (corpus) into numerical representations, described by the amount of word occurrences.\n",
        "\n",
        "As we saw earlier, these documents have various words that should have minimal influence, which are called stop words. We need to re-weight these\n",
        "\n",
        "numerical representations into float values, which are more suitable into a classifier.\n",
        "\n",
        "This technique is called tf-idf transform (term-frequency) and together with the occurences counter are combined in a single sklearn vectorizer."
      ],
      "metadata": {
        "id": "0g1-tTbC9o0Q"
      }
    },
    {
      "cell_type": "code",
      "source": [
        "from sklearn.feature_extraction.text import TfidfVectorizer\n",
        "\n",
        "transformer = TfidfVectorizer(stop_words = 'english')\n",
        "X = transformer.fit_transform(df[\"v2\"])\n",
        "np.shape(X)"
      ],
      "metadata": {
        "colab": {
          "base_uri": "https://localhost:8080/"
        },
        "id": "RPYpOZWW9sVp",
        "outputId": "8c1df87b-2a1e-455b-dc03-0167b48de679"
      },
      "execution_count": null,
      "outputs": [
        {
          "output_type": "execute_result",
          "data": {
            "text/plain": [
              "(5572, 8404)"
            ]
          },
          "metadata": {},
          "execution_count": 12
        }
      ]
    },
    {
      "cell_type": "markdown",
      "source": [
        "**Data preparation**"
      ],
      "metadata": {
        "id": "poLRuOE39zXG"
      }
    },
    {
      "cell_type": "markdown",
      "source": [
        "It is time to split the dataset into train and test sets. Before we do that, we should replace the words 'spam' and 'ham' into binary"
      ],
      "metadata": {
        "id": "9B6XOd2g90iv"
      }
    },
    {
      "cell_type": "code",
      "source": [
        "from sklearn.model_selection import train_test_split\n",
        "\n",
        "# Extract features and prediction vectors\n",
        "y = df['v1'].map({'ham':0, 'spam':1})\n",
        "X_train, X_test, y_train, y_test = train_test_split(X, y, test_size = 0.3, random_state = 0)\n",
        "X_train.shape, X_test.shape"
      ],
      "metadata": {
        "colab": {
          "base_uri": "https://localhost:8080/"
        },
        "id": "3NWP6tSR94Q6",
        "outputId": "2d427a73-b8d6-4522-c3d9-a3cbf7203bec"
      },
      "execution_count": null,
      "outputs": [
        {
          "output_type": "execute_result",
          "data": {
            "text/plain": [
              "((3900, 8404), (1672, 8404))"
            ]
          },
          "metadata": {},
          "execution_count": 13
        }
      ]
    },
    {
      "cell_type": "markdown",
      "source": [
        "**Model creation and training**"
      ],
      "metadata": {
        "id": "ag4WmG-J9-yK"
      }
    },
    {
      "cell_type": "markdown",
      "source": [
        "Let's initialize our two models, the MultinomialNB and the BernoulliNB. After initialization we fit the models to the data and record their scores for the prediction analysis."
      ],
      "metadata": {
        "id": "JU8oS2rt-AvP"
      }
    },
    {
      "cell_type": "code",
      "source": [
        "from sklearn.naive_bayes import MultinomialNB, BernoulliNB\n",
        "\n",
        "mnb = MultinomialNB()\n",
        "mnb.fit(X_train, y_train)\n",
        "score_train_mnb = mnb.score(X_train, y_train)\n",
        "score_test_mnb  = mnb.score(X_test,  y_test)\n",
        "    \n",
        "bnb = BernoulliNB()\n",
        "bnb.fit(X_train, y_train)\n",
        "score_train_bnb = bnb.score(X_train, y_train)\n",
        "score_test_bnb  = bnb.score(X_test,  y_test)"
      ],
      "metadata": {
        "id": "k2KUdNcP-DfD"
      },
      "execution_count": null,
      "outputs": []
    },
    {
      "cell_type": "markdown",
      "source": [
        "**Prediction Analysis**"
      ],
      "metadata": {
        "id": "_TBf5mna-I_H"
      }
    },
    {
      "cell_type": "markdown",
      "source": [
        "The first thing we should do is to find what is the null accuracy. This value is the accuracy achieved by always selecting the most frequent class. To compute it we calculate the\n",
        "\n",
        "occurences of the most frequent class, and divide by the total occurences of the test set. After that we go ahead and compute the mean accuracy for the train and test sets for both NB models."
      ],
      "metadata": {
        "id": "FgAf25lD-KQ8"
      }
    },
    {
      "cell_type": "code",
      "source": [
        "print(f'{y_test.value_counts()}\\n')\n",
        "\n",
        "null_accuracy = (1434/(1434+238))\n",
        "print('Null accuracy score: {0:0.4f}\\n'.format(null_accuracy))\n",
        "\n",
        "print(\"MultinomialNB:\\n-> Train set: {}\\n-> Test set:  {}\".format(score_train_mnb, score_test_mnb))\n",
        "print(\"BernoulliNB:\\n-> Train set: {}\\n-> Test set:  {}\".format(score_train_bnb, score_test_bnb))"
      ],
      "metadata": {
        "colab": {
          "base_uri": "https://localhost:8080/"
        },
        "id": "NtPD1OFn-Ml3",
        "outputId": "2b74f42d-0a5b-4ccc-f700-8b70b326b4ba"
      },
      "execution_count": null,
      "outputs": [
        {
          "output_type": "stream",
          "name": "stdout",
          "text": [
            "0    1434\n",
            "1     238\n",
            "Name: v1, dtype: int64\n",
            "\n",
            "Null accuracy score: 0.8577\n",
            "\n",
            "MultinomialNB:\n",
            "-> Train set: 0.9794871794871794\n",
            "-> Test set:  0.9593301435406698\n",
            "BernoulliNB:\n",
            "-> Train set: 0.9833333333333333\n",
            "-> Test set:  0.9659090909090909\n"
          ]
        }
      ]
    },
    {
      "cell_type": "markdown",
      "source": [
        "As we can see both models perform really well in classifing spam from non spam, with the Bernoulli model perfoming a little bit better. Also both model accuracies are\n",
        "\n",
        "above the null accuracy value, which means they are good in classifing the specific task at hand."
      ],
      "metadata": {
        "id": "rKJC2g-E-R7F"
      }
    },
    {
      "cell_type": "markdown",
      "source": [
        "**Confusion Matrix**"
      ],
      "metadata": {
        "id": "1FrhWBa1-Uy-"
      }
    },
    {
      "cell_type": "markdown",
      "source": [
        "To further boost our confidence into these models we should use other metric tools for the underlying performance of the models. A well known tool is called the confusion matrix.\n",
        "\n",
        "The confusion matrix is a  2×2  table that contains 4 outputs as a result of a binary classifier. There are four outcomes: TP, FP, TN, FN. In more detail:\n",
        "\n",
        "True Positives (TP)\n",
        "False Positives (FP)\n",
        "True Negatives (TN)\n",
        "False Negatives (FN)"
      ],
      "metadata": {
        "id": "CEf8RRmn-Xga"
      }
    },
    {
      "cell_type": "code",
      "source": [
        "from sklearn.metrics import confusion_matrix\n",
        "\n",
        "y_pred_train_mnb = mnb.predict(X_train.toarray())\n",
        "y_pred_train_bnb = bnb.predict(X_train.toarray())\n",
        "\n",
        "cm_mnb_vals = confusion_matrix(y_train, y_pred_train_mnb)\n",
        "cm_bnb_vals = confusion_matrix(y_train, y_pred_train_bnb)\n",
        "\n",
        "cm_mnb = pd.DataFrame(data=cm_mnb_vals, columns=['Actual Positive (1)', 'Actual Negative (0)'], \n",
        "                                        index=['Predict Positive (1)', 'Predict Negative (0)'])\n",
        "cm_bnb = pd.DataFrame(data=cm_bnb_vals, columns=['Actual Positive (1)', 'Actual Negative (0)'], \n",
        "                                        index=['Predict Positive (1)', 'Predict Negative (0)'])\n",
        "\n",
        "fig, axes = plt.subplots(1, 2, figsize=(12, 4))\n",
        "axes[0].set_title('MultinomialNB')\n",
        "axes[1].set_title('BernoulliNB')\n",
        "\n",
        "sns.heatmap(cm_mnb, annot=True, fmt='d', ax=axes[0])\n",
        "sns.heatmap(cm_bnb, annot=True, fmt='d', ax=axes[1])\n",
        "\n",
        "plt.show()"
      ],
      "metadata": {
        "colab": {
          "base_uri": "https://localhost:8080/",
          "height": 281
        },
        "id": "oYnuQT3Z-ZvZ",
        "outputId": "fb5bbef3-d796-4186-c38b-b0787c685b31"
      },
      "execution_count": null,
      "outputs": [
        {
          "output_type": "display_data",
          "data": {
            "text/plain": [
              "<Figure size 864x288 with 4 Axes>"
            ],
            "image/png": "[encoded data removed]"
          },
          "metadata": {
            "needs_background": "light"
          }
        }
      ]
    },
    {
      "cell_type": "markdown",
      "source": [
        "**Classification Measures**"
      ],
      "metadata": {
        "id": "s1enU3FK-k1R"
      }
    },
    {
      "cell_type": "markdown",
      "source": [
        "From the confusion matrix we can derive several classification measures:\n",
        "\n",
        "1. Accuracy\n",
        "This term tells us how many right predictions were made.\n",
        "\n",
        "TP+TNTP+FP+TN+FN \n",
        "\n",
        "2. Error Rate\n",
        "This term tells us how many wrong predictions were made.\n",
        "\n",
        "FP+FNTP+FP+TN+FN \n",
        "\n",
        "3. Precision\n",
        "Explains how many, of the predictions that were marked as positive, are actually truly positive.\n",
        "\n",
        "TPTP+FP \n",
        "\n",
        "4. Sensitivity (Recall or True positive rate)\n",
        "This term is a measure of how well the classifier can identify true positives.\n",
        "\n",
        "TPTP+FN \n",
        "\n",
        "5. Specificity (True Negative rate)\n",
        "This term is a measure of how well the classifier can identify true negatives.\n",
        "\n",
        "TNTN+FP \n",
        "\n",
        "6. F1-Score (Harmonic mean of precision and recall)\n",
        "This score can be interpreted as a weighted harmonic mean of the precision and recall. It maxes out when Recall = Precision.\n",
        "\n",
        "2∗Precision∗RecallPrecision+Recall \n",
        "\n",
        "\n"
      ],
      "metadata": {
        "id": "wR4nAbYX-mL5"
      }
    },
    {
      "cell_type": "code",
      "source": [
        "# Classification measures for MultinomialNB\n",
        "mnb_TP = cm_mnb_vals[0,0]\n",
        "mnb_FP = cm_mnb_vals[0,1]\n",
        "mnb_TN = cm_mnb_vals[1,1]\n",
        "mnb_FN = cm_mnb_vals[1,0]\n",
        "\n",
        "mnb_accuracy    = (mnb_TP + mnb_TN) / float(mnb_TP + mnb_TN + mnb_FP + mnb_FN)\n",
        "mnb_error       = (mnb_FP + mnb_FN) / float(mnb_TP + mnb_TN + mnb_FP + mnb_FN)\n",
        "mnb_precision   = mnb_TP / float(mnb_TP + mnb_FP)\n",
        "mnb_recall      = mnb_TP / float(mnb_TP + mnb_FN)\n",
        "mnb_specificity = mnb_TN / float(mnb_TN + mnb_FP)\n",
        "mnb_f1          = 2 * (mnb_precision * mnb_recall) / (mnb_precision + mnb_recall)\n",
        "\n",
        "print(f'MultinomialNB Accuracy:    {mnb_accuracy:.4f}')\n",
        "print(f'MultinomialNB Error:       {mnb_error:.4f}')\n",
        "print(f'MultinomialNB Precision:   {mnb_precision:.4f}')\n",
        "print(f'MultinomialNB Recall:      {mnb_recall:.4f}')\n",
        "print(f'MultinomialNB Specificity: {mnb_specificity:.4f}')\n",
        "print(f'MultinomialNB F1-Score:    {mnb_f1:.4f}\\n')\n",
        "\n",
        "# Classification measures for BernoulliNB\n",
        "bnb_TP = cm_bnb_vals[0,0]\n",
        "bnb_FP = cm_bnb_vals[0,1]\n",
        "bnb_TN = cm_bnb_vals[1,1]\n",
        "bnb_FN = cm_bnb_vals[1,0]\n",
        "\n",
        "bnb_accuracy    = (bnb_TP + bnb_TN) / float(bnb_TP + bnb_TN + bnb_FP + bnb_FN)\n",
        "bnb_error       = (bnb_FP + bnb_FN) / float(bnb_TP + bnb_TN + bnb_FP + bnb_FN)\n",
        "bnb_precision   = bnb_TP / float(bnb_TP + bnb_FP)\n",
        "bnb_recall      = bnb_TP / float(bnb_TP + bnb_FN)\n",
        "bnb_specificity = bnb_TN / float(bnb_TN + bnb_FP)\n",
        "bnb_f1          = 2 * (bnb_precision * bnb_recall) / (bnb_precision + bnb_recall)\n",
        "\n",
        "print(f'BernoulliNB Accuracy:    {bnb_accuracy:.4f}')\n",
        "print(f'BernoulliNB Error:       {bnb_error:.4f}')\n",
        "print(f'BernoulliNB Precision:   {bnb_precision:.4f}')\n",
        "print(f'BernoulliNB Recall:      {bnb_recall:.4f}')\n",
        "print(f'BernoulliNB Specificity: {bnb_specificity:.4f}')\n",
        "print(f'BernoulliNB F1-Score:    {bnb_f1:.4f}')"
      ],
      "metadata": {
        "colab": {
          "base_uri": "https://localhost:8080/"
        },
        "id": "iw3GMUVb-s8H",
        "outputId": "bd8facf7-42dd-4f64-d9fe-960d121fa425"
      },
      "execution_count": null,
      "outputs": [
        {
          "output_type": "stream",
          "name": "stdout",
          "text": [
            "MultinomialNB Accuracy:    0.9795\n",
            "MultinomialNB Error:       0.0205\n",
            "MultinomialNB Precision:   1.0000\n",
            "MultinomialNB Recall:      0.9770\n",
            "MultinomialNB Specificity: 1.0000\n",
            "MultinomialNB F1-Score:    0.9883\n",
            "\n",
            "BernoulliNB Accuracy:    0.9833\n",
            "BernoulliNB Error:       0.0167\n",
            "BernoulliNB Precision:   1.0000\n",
            "BernoulliNB Recall:      0.9812\n",
            "BernoulliNB Specificity: 1.0000\n",
            "BernoulliNB F1-Score:    0.9905\n"
          ]
        }
      ]
    },
    {
      "cell_type": "markdown",
      "source": [
        "As we can see from the metrics, the Bernoulli model behaves better in all aspects of the prediction process. It has better accuracy and lower error rate.\n",
        "\n",
        "In addition the BernoulliNB has better recall, meaning it is better in identifying true positives, and as a result gives a better F1-Score."
      ],
      "metadata": {
        "id": "F4UdRl2V_DD1"
      }
    },
    {
      "cell_type": "code",
      "source": [
        "mnb_y_pred = mnb.predict_proba(X_test)[:, 1]\n",
        "bnb_y_pred = bnb.predict_proba(X_test)[:, 1]"
      ],
      "metadata": {
        "id": "Luk2YVHY_JM9"
      },
      "execution_count": null,
      "outputs": []
    },
    {
      "cell_type": "code",
      "source": [
        "from sklearn.metrics import roc_curve\n",
        "\n",
        "mnb_FPR, mnb_TPR, mnb_thresholds = roc_curve(y_test, mnb_y_pred)\n",
        "bnb_FPR, bnb_TPR, bnb_thresholds = roc_curve(y_test, bnb_y_pred)\n",
        "\n",
        "fig, axes = plt.subplots(1, 2, figsize=(12, 4))\n",
        "axes[0].set_title('MultinomialNB')\n",
        "axes[1].set_title('BernoulliNB')\n",
        "\n",
        "axes[0].plot(mnb_FPR, mnb_TPR, linewidth=2)\n",
        "axes[0].plot([0,1], [0,1], 'k--' )\n",
        "axes[0].set_xlabel('False Positive Rate (1 - Specificity)')\n",
        "axes[0].set_ylabel('True Positive Rate (Sensitivity)')\n",
        "\n",
        "axes[1].plot(bnb_FPR, bnb_TPR, linewidth=2, color='y')\n",
        "axes[1].plot([0,1], [0,1], 'k--' )\n",
        "axes[1].set_xlabel('False Positive Rate (1 - Specificity)')\n",
        "axes[1].set_ylabel('True Positive Rate (Sensitivity)')\n",
        "\n",
        "plt.show()"
      ],
      "metadata": {
        "colab": {
          "base_uri": "https://localhost:8080/",
          "height": 295
        },
        "id": "8J6r30vq_J-D",
        "outputId": "2e97f109-6eb9-4149-a88e-0f60a52a931b"
      },
      "execution_count": null,
      "outputs": [
        {
          "output_type": "display_data",
          "data": {
            "text/plain": [
              "<Figure size 864x288 with 2 Axes>"
            ],
            "image/png": "[encoded data removed]"
          },
          "metadata": {
            "needs_background": "light"
          }
        }
      ]
    },
    {
      "cell_type": "code",
      "source": [
        "from sklearn.metrics import roc_auc_score\n",
        "\n",
        "mnb_AUC = roc_auc_score(y_test, mnb_y_pred)\n",
        "bnb_AUC = roc_auc_score(y_test, bnb_y_pred)\n",
        "\n",
        "print(f'MultinomialNB AUC: {mnb_AUC:.4f}')\n",
        "print(f'BernoulliNB AUC:   {bnb_AUC:.4f}')"
      ],
      "metadata": {
        "colab": {
          "base_uri": "https://localhost:8080/"
        },
        "id": "wSKaEx2P_M2b",
        "outputId": "038dc265-22a2-4ddf-e233-566ef55003cd"
      },
      "execution_count": null,
      "outputs": [
        {
          "output_type": "stream",
          "name": "stdout",
          "text": [
            "MultinomialNB AUC: 0.9914\n",
            "BernoulliNB AUC:   0.9903\n"
          ]
        }
      ]
    },
    {
      "cell_type": "markdown",
      "source": [
        "**Cross Validation**"
      ],
      "metadata": {
        "id": "huM6NcZL_TKA"
      }
    },
    {
      "cell_type": "code",
      "source": [
        "from sklearn.model_selection import cross_val_score\n",
        "\n",
        "mnb_cv_accuracy = cross_val_score(mnb, X_train, y_train, cv = 10, scoring = 'accuracy')\n",
        "mnb_cv_recall   = cross_val_score(mnb, X_train, y_train, cv = 10, scoring = 'recall')\n",
        "mnb_cv_f1       = cross_val_score(mnb, X_train, y_train, cv = 10, scoring = 'f1')\n",
        "mnb_cv_ROC      = cross_val_score(mnb, X_train, y_train, cv = 10, scoring = 'roc_auc')\n",
        "print('MultinomialNB Cross-Validation:')\n",
        "print(f'-> Accuracy: {mnb_cv_accuracy.mean():.4f}')\n",
        "print(f'-> Recall:   {mnb_cv_recall.mean():.4f}')\n",
        "print(f'-> F1-Score: {mnb_cv_f1.mean():.4f}')\n",
        "print(f'-> ROC AUC:  {mnb_cv_ROC.mean():.4f}')\n",
        "\n",
        "print()\n",
        "bnb_cv_accuracy = cross_val_score(bnb, X_train, y_train, cv = 10, scoring = 'accuracy')\n",
        "bnb_cv_recall   = cross_val_score(bnb, X_train, y_train, cv = 10, scoring = 'recall')\n",
        "bnb_cv_f1       = cross_val_score(bnb, X_train, y_train, cv = 10, scoring = 'f1')\n",
        "bnb_cv_ROC      = cross_val_score(bnb, X_train, y_train, cv = 10, scoring = 'roc_auc')\n",
        "print('BernoulliNB Cross-Validation:')\n",
        "print(f'-> Accuracy: {bnb_cv_accuracy.mean():.4f}')\n",
        "print(f'-> Recall:   {bnb_cv_recall.mean():.4f}')\n",
        "print(f'-> F1-Score: {bnb_cv_f1.mean():.4f}')\n",
        "print(f'-> ROC AUC:  {bnb_cv_ROC.mean():.4f}')"
      ],
      "metadata": {
        "colab": {
          "base_uri": "https://localhost:8080/"
        },
        "id": "EkqqslFn_O47",
        "outputId": "409f5775-1ee4-4c0a-bb75-ec6cdba9a87f"
      },
      "execution_count": null,
      "outputs": [
        {
          "output_type": "stream",
          "name": "stdout",
          "text": [
            "MultinomialNB Cross-Validation:\n",
            "-> Accuracy: 0.9644\n",
            "-> Recall:   0.7268\n",
            "-> F1-Score: 0.8395\n",
            "-> ROC AUC:  0.9871\n",
            "\n",
            "BernoulliNB Cross-Validation:\n",
            "-> Accuracy: 0.9744\n",
            "-> Recall:   0.8153\n",
            "-> F1-Score: 0.8916\n",
            "-> ROC AUC:  0.9927\n"
          ]
        }
      ]
    },
    {
      "cell_type": "code",
      "source": [
        "from sklearn.model_selection import GridSearchCV\n",
        "\n",
        "param={'alpha': np.arange(0.01, 1, 0.01)}\n",
        "\n",
        "mnb_grid_search = GridSearchCV(mnb, param, cv=10, scoring=\"accuracy\", return_train_score=True, n_jobs=-1)\n",
        "mnb_grid_search.fit(X_train,y_train)\n",
        "\n",
        "bnb_grid_search = GridSearchCV(bnb, param, cv=10, scoring=\"accuracy\", return_train_score=True, n_jobs=-1)\n",
        "bnb_grid_search.fit(X_train,y_train)\n",
        "\n",
        "mnb.set_params(alpha = mnb_grid_search.best_params_['alpha'])\n",
        "bnb.set_params(alpha = bnb_grid_search.best_params_['alpha'])\n",
        "\n",
        "print(f'MultinomialNB\\n-> Best Alpha: {mnb_grid_search.best_params_[\"alpha\"]}\\n-> Mean Accuracy Score: {cross_val_score(mnb, X_train, y_train, cv = 10, scoring=\"accuracy\").mean():.4f}')\n",
        "print(f'BernoulliNB\\n-> Best Alpha: {bnb_grid_search.best_params_[\"alpha\"]}\\n-> Mean Accuracy Score: {cross_val_score(bnb, X_train, y_train, cv = 10, scoring=\"accuracy\").mean():.4f}')"
      ],
      "metadata": {
        "colab": {
          "base_uri": "https://localhost:8080/"
        },
        "id": "opn7agU3_ZGp",
        "outputId": "e2252978-a4e4-4e16-f457-59c53fbba72d"
      },
      "execution_count": null,
      "outputs": [
        {
          "output_type": "stream",
          "name": "stdout",
          "text": [
            "MultinomialNB\n",
            "-> Best Alpha: 0.2\n",
            "-> Mean Accuracy Score: 0.9821\n",
            "BernoulliNB\n",
            "-> Best Alpha: 0.02\n",
            "-> Mean Accuracy Score: 0.9849\n"
          ]
        }
      ]
    },
    {
      "cell_type": "markdown",
      "source": [
        "**Results**"
      ],
      "metadata": {
        "id": "CquwMpvH_jd5"
      }
    },
    {
      "cell_type": "markdown",
      "source": [
        "As we can see from all the performance metrics, both models behave very similarly to unseen data. We notice that the BernoulliNB model is better by a tiny margin in all scores.\n",
        "\n",
        "We also saw that using cross-validation yields a better understanding of each model's predictive power, even though we didn't notice much of an accuracy increase compared to the simple train-test split.\n",
        "\n",
        "We also performed a grid search in order to identify the best  α  hyperparameter for each model, boosting their predictive power.\n",
        "\n"
      ],
      "metadata": {
        "id": "8G5EagYu_kvJ"
      }
    }
  ]
}